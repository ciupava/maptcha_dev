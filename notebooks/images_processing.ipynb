{
 "cells": [
  {
   "cell_type": "markdown",
   "metadata": {},
   "source": [
    "# Images processing\n",
    "\n",
    "The aim is to generate images for maptcha in a programmatic (automated?) way.\n",
    "We have the RGB (\"true\" image from satellite/UAV, `.tif`) and the labels/prediction results (vectorial, so it can be shown \"on top\" of the RGB, `.geojson`). We want to have a single image out of these 2, a `jpg`, where they are overlaid.\n",
    "\n",
    "We comprise 2 stages:\n",
    "1. overlay the two datasets, this would generate a jpg image\n",
    "2. generate tiles out of the jpg image (possibly on where data exists)\n",
    "\n",
    "\n",
    "Explaining the point 2: the original images come in tiles, spread across a city/region. See below.\n",
    "\n",
    "\n",
    "This is a screenshot of the result we would like to obtain, where actually we would like to have the single tiles saved one by one. This in Qgis is easy to visualise, but would be tedious to generate the final tiles as an overlaid image.\n",
    "\n",
    "**...THIRD STAGE?**\n",
    "\n",
    "We do still need to classify these in false/true and positive/negative.\n",
    "\n",
    "I see how the labels could help in this, but it seems still less tedious and time-consuming to generate the classification by hand?\n",
    "\n",
    "... more to think on this.\n",
    "\n",
    "---"
   ]
  },
  {
   "cell_type": "code",
   "execution_count": null,
   "metadata": {},
   "outputs": [],
   "source": [
    "# need to define an env file too"
   ]
  },
  {
   "cell_type": "code",
   "execution_count": null,
   "metadata": {},
   "outputs": [],
   "source": [
    "# Import modules and define paths"
   ]
  },
  {
   "cell_type": "code",
   "execution_count": null,
   "metadata": {},
   "outputs": [],
   "source": [
    "# Upload data"
   ]
  },
  {
   "cell_type": "code",
   "execution_count": null,
   "metadata": {},
   "outputs": [],
   "source": [
    "# Script for generating \"collapsed\" tif and geojson figure\n",
    "# from https://stackoverflow.com/questions/61980063/how-to-place-a-shapefile-on-top-of-raster-file-in-one-plot-and-then-save-the-pl\n",
    "import rasterio\n",
    "import numpy as np\n",
    "from rasterio import plot as rasterplot\n",
    "import geopandas as gpd\n",
    "from matplotlib import pyplot as plt\n",
    "\n",
    "\n",
    "# this is how you'd open the raster dataset if you have one\n",
    "#tiff = rasterio.open('example.tif')\n",
    "#tiff_extent = [tiff.bounds[0], tiff.bounds[2], tiff.bounds[1], tiff.bounds[3]]\n",
    "\n",
    "# i am making this array up\n",
    "tiff_band_1 = np.random.randint(0, 10, size=(65, 64))\n",
    "tiff_extent = [4159200.0, 4808100.0, 2828000.0, 3482600.0]\n",
    "\n",
    "shapefile = gpd.read_file(gpd.datasets.get_path('naturalearth_lowres'))\n",
    "shapefile = shapefile.to_crs('epsg:3035')\n",
    "shapefile = shapefile[shapefile.name == 'Germany']\n",
    "\n",
    "f, ax = plt.subplots()\n",
    "\n",
    "# plot DEM\n",
    "rasterplot.show(\n",
    "    tiff_band_1,  # use tiff.read(1) with your data\n",
    "    extent=tiff_extent,\n",
    "    ax=ax,\n",
    "\n",
    ")\n",
    "# plot shapefiles\n",
    "shapefile.plot(ax=ax, facecolor='w', edgecolor='k')\n",
    "plt.savefig('test.jpg')\n",
    "plt.show()"
   ]
  }
 ],
 "metadata": {
  "language_info": {
   "name": "python"
  }
 },
 "nbformat": 4,
 "nbformat_minor": 2
}
